{
 "cells": [
  {
   "cell_type": "code",
   "execution_count": null,
   "id": "1c7e4e53",
   "metadata": {},
   "outputs": [
    {
     "name": "stdout",
     "output_type": "stream",
     "text": [
      "Enter your 16 digit credit card number : 4532756279624523\n",
      "INVALID CARD NUMBER\n",
      "Do you want to check again? (Yes/No) : yes\n",
      "Enter your 16 digit credit card number : 4722541190001331\n",
      "This is a VALID CARD!\n"
     ]
    }
   ],
   "source": [
    "def check_validity(num):                                                \n",
    "    validlist=[]\n",
    "    for i in num:\n",
    "        validlist.append(int(i))\n",
    "    for i in range(0,len(num),2):                                             \n",
    "        validlist[i] = validlist[i] * 2\n",
    "        if validlist[i]  >= 10:\n",
    "            validlist[i] =  (validlist[i]//10 + validlist[i]%10)\n",
    "    \n",
    "    if sum(validlist)% 10 == 0:\n",
    "        print(\"This is a VALID CARD!\")\n",
    "    \n",
    "    else:\n",
    "        print('INVALID CARD NUMBER')\n",
    "\n",
    "def cardnumber():                                                                     \n",
    "    n =''\n",
    "    while True:\n",
    "        try:\n",
    "            n = input('Enter your 16 digit credit card number : ')\n",
    "\n",
    "            if not (len(n) == 16) or not type(int(n) == int) :\n",
    "                raise Exception\n",
    "\n",
    "        except Exception:    \n",
    "            print('That is not a valid credit card number. \\nMake sure you are entering digits not characters and all the 16 digits.')\n",
    "            continue\n",
    "\n",
    "        else:\n",
    "            break\n",
    "\n",
    "    return n\n",
    "\n",
    "def goagain():\n",
    "    return input('Do you want to check again? (Yes/No) : ').lower()[0] == 'y'\n",
    "\n",
    "def main():\n",
    "\n",
    "    while True:\n",
    "\n",
    "        num = cardnumber()\n",
    "        check_validity(num)\n",
    "\n",
    "\n",
    "        if not goagain():\n",
    "            break\n",
    "\n",
    "if __name__ == '__main__':\n",
    "    main()"
   ]
  },
  {
   "cell_type": "code",
   "execution_count": null,
   "id": "e3a52871",
   "metadata": {},
   "outputs": [],
   "source": []
  }
 ],
 "metadata": {
  "kernelspec": {
   "display_name": "Python 3 (ipykernel)",
   "language": "python",
   "name": "python3"
  },
  "language_info": {
   "codemirror_mode": {
    "name": "ipython",
    "version": 3
   },
   "file_extension": ".py",
   "mimetype": "text/x-python",
   "name": "python",
   "nbconvert_exporter": "python",
   "pygments_lexer": "ipython3",
   "version": "3.11.3"
  }
 },
 "nbformat": 4,
 "nbformat_minor": 5
}
